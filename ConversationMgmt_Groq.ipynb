{
  "nbformat": 4,
  "nbformat_minor": 0,
  "metadata": {
    "colab": {
      "provenance": [],
      "authorship_tag": "ABX9TyP6xpzM26DaPGeuVmo2stXc",
      "include_colab_link": true
    },
    "kernelspec": {
      "name": "python3",
      "display_name": "Python 3"
    },
    "language_info": {
      "name": "python"
    }
  },
  "cells": [
    {
      "cell_type": "markdown",
      "metadata": {
        "id": "view-in-github",
        "colab_type": "text"
      },
      "source": [
        "<a href=\"https://colab.research.google.com/github/Kshitij111111/ConversationMgmt_Groq/blob/main/ConversationMgmt_Groq.ipynb\" target=\"_parent\"><img src=\"https://colab.research.google.com/assets/colab-badge.svg\" alt=\"Open In Colab\"/></a>"
      ]
    },
    {
      "cell_type": "code",
      "execution_count": 1,
      "metadata": {
        "colab": {
          "base_uri": "https://localhost:8080/"
        },
        "id": "DElzNi4euhRK",
        "outputId": "4563f615-d067-4ba1-886f-3b0ef0141fe5"
      },
      "outputs": [
        {
          "output_type": "stream",
          "name": "stdout",
          "text": [
            "Requirement already satisfied: openai in /usr/local/lib/python3.12/dist-packages (1.106.1)\n",
            "Collecting openai\n",
            "  Downloading openai-1.107.3-py3-none-any.whl.metadata (29 kB)\n",
            "Requirement already satisfied: jsonschema in /usr/local/lib/python3.12/dist-packages (4.25.1)\n",
            "Requirement already satisfied: anyio<5,>=3.5.0 in /usr/local/lib/python3.12/dist-packages (from openai) (4.10.0)\n",
            "Requirement already satisfied: distro<2,>=1.7.0 in /usr/local/lib/python3.12/dist-packages (from openai) (1.9.0)\n",
            "Requirement already satisfied: httpx<1,>=0.23.0 in /usr/local/lib/python3.12/dist-packages (from openai) (0.28.1)\n",
            "Requirement already satisfied: jiter<1,>=0.4.0 in /usr/local/lib/python3.12/dist-packages (from openai) (0.10.0)\n",
            "Requirement already satisfied: pydantic<3,>=1.9.0 in /usr/local/lib/python3.12/dist-packages (from openai) (2.11.7)\n",
            "Requirement already satisfied: sniffio in /usr/local/lib/python3.12/dist-packages (from openai) (1.3.1)\n",
            "Requirement already satisfied: tqdm>4 in /usr/local/lib/python3.12/dist-packages (from openai) (4.67.1)\n",
            "Requirement already satisfied: typing-extensions<5,>=4.11 in /usr/local/lib/python3.12/dist-packages (from openai) (4.15.0)\n",
            "Requirement already satisfied: attrs>=22.2.0 in /usr/local/lib/python3.12/dist-packages (from jsonschema) (25.3.0)\n",
            "Requirement already satisfied: jsonschema-specifications>=2023.03.6 in /usr/local/lib/python3.12/dist-packages (from jsonschema) (2025.4.1)\n",
            "Requirement already satisfied: referencing>=0.28.4 in /usr/local/lib/python3.12/dist-packages (from jsonschema) (0.36.2)\n",
            "Requirement already satisfied: rpds-py>=0.7.1 in /usr/local/lib/python3.12/dist-packages (from jsonschema) (0.27.1)\n",
            "Requirement already satisfied: idna>=2.8 in /usr/local/lib/python3.12/dist-packages (from anyio<5,>=3.5.0->openai) (3.10)\n",
            "Requirement already satisfied: certifi in /usr/local/lib/python3.12/dist-packages (from httpx<1,>=0.23.0->openai) (2025.8.3)\n",
            "Requirement already satisfied: httpcore==1.* in /usr/local/lib/python3.12/dist-packages (from httpx<1,>=0.23.0->openai) (1.0.9)\n",
            "Requirement already satisfied: h11>=0.16 in /usr/local/lib/python3.12/dist-packages (from httpcore==1.*->httpx<1,>=0.23.0->openai) (0.16.0)\n",
            "Requirement already satisfied: annotated-types>=0.6.0 in /usr/local/lib/python3.12/dist-packages (from pydantic<3,>=1.9.0->openai) (0.7.0)\n",
            "Requirement already satisfied: pydantic-core==2.33.2 in /usr/local/lib/python3.12/dist-packages (from pydantic<3,>=1.9.0->openai) (2.33.2)\n",
            "Requirement already satisfied: typing-inspection>=0.4.0 in /usr/local/lib/python3.12/dist-packages (from pydantic<3,>=1.9.0->openai) (0.4.1)\n",
            "Downloading openai-1.107.3-py3-none-any.whl (947 kB)\n",
            "\u001b[2K   \u001b[90m━━━━━━━━━━━━━━━━━━━━━━━━━━━━━━━━━━━━━━━━\u001b[0m \u001b[32m947.6/947.6 kB\u001b[0m \u001b[31m14.1 MB/s\u001b[0m eta \u001b[36m0:00:00\u001b[0m\n",
            "\u001b[?25hInstalling collected packages: openai\n",
            "  Attempting uninstall: openai\n",
            "    Found existing installation: openai 1.106.1\n",
            "    Uninstalling openai-1.106.1:\n",
            "      Successfully uninstalled openai-1.106.1\n",
            "Successfully installed openai-1.107.3\n"
          ]
        }
      ],
      "source": [
        "# Colab cell (bash)\n",
        "!pip install --upgrade openai jsonschema\n"
      ]
    },
    {
      "cell_type": "code",
      "source": [
        "# Colab cell (python)\n",
        "import os\n",
        "from getpass import getpass\n",
        "\n",
        "# Preferred (secure) way — paste when prompted (won't echo)\n",
        "if \"GROQ_API_KEY\" not in os.environ:\n",
        "    os.environ[\"GROQ_API_KEY\"] = getpass(\"Paste your GROQ API key (it will not show): \")\n",
        "\n",
        "print(\"GROQ_API_KEY loaded into environment (not printed).\")\n"
      ],
      "metadata": {
        "colab": {
          "base_uri": "https://localhost:8080/"
        },
        "id": "UOb5K2ypwERD",
        "outputId": "d03ff2ba-00d3-4659-d143-dc7de50920ea"
      },
      "execution_count": 2,
      "outputs": [
        {
          "output_type": "stream",
          "name": "stdout",
          "text": [
            "Paste your GROQ API key (it will not show): ··········\n",
            "GROQ_API_KEY loaded into environment (not printed).\n"
          ]
        }
      ]
    },
    {
      "cell_type": "code",
      "source": [
        "# Colab cell (python)\n",
        "import os, json\n",
        "from openai import OpenAI\n",
        "\n",
        "# Create client that talks to Groq using the OpenAI-compatible SDK\n",
        "GROQ_API_KEY = os.environ.get(\"GROQ_API_KEY\")\n",
        "if not GROQ_API_KEY:\n",
        "    raise RuntimeError(\"Set GROQ_API_KEY in environment first\")\n",
        "\n",
        "client = OpenAI(api_key=GROQ_API_KEY, base_url=\"https://api.groq.com/openai/v1\")\n",
        "\n",
        "# quick sanity check (do not print your key)\n",
        "print(\"Client created. (Using Groq OpenAI-compatible endpoint).\")\n"
      ],
      "metadata": {
        "colab": {
          "base_uri": "https://localhost:8080/"
        },
        "id": "3iu9MRl6wKa4",
        "outputId": "6016fc21-3f95-4d8b-91fd-845d49d51cc4"
      },
      "execution_count": 3,
      "outputs": [
        {
          "output_type": "stream",
          "name": "stdout",
          "text": [
            "Client created. (Using Groq OpenAI-compatible endpoint).\n"
          ]
        }
      ]
    },
    {
      "cell_type": "markdown",
      "source": [
        "# Colab cell (python)\n",
        "import os, json\n",
        "from openai import OpenAI\n",
        "\n",
        "# Create client that talks to Groq using the OpenAI-compatible SDK\n",
        "GROQ_API_KEY = os.environ.get(\"GROQ_API_KEY\")\n",
        "if not GROQ_API_KEY:\n",
        "    raise RuntimeError(\"Set GROQ_API_KEY in environment first\")\n",
        "\n",
        "client = OpenAI(api_key=GROQ_API_KEY, base_url=\"https://api.groq.com/openai/v1\")\n",
        "\n",
        "# quick sanity check (do not print your key)\n",
        "print(\"Client created. (Using Groq OpenAI-compatible endpoint).\")\n"
      ],
      "metadata": {
        "id": "QTfnvmPuxLDF"
      }
    },
    {
      "cell_type": "code",
      "source": [
        "# Colab cell (python)\n",
        "import json\n",
        "from typing import List, Dict\n",
        "\n",
        "class ConversationManager:\n",
        "    def __init__(self):\n",
        "        self.messages: List[Dict] = []  # list of {\"role\": \"user\"/\"assistant\"/\"system\", \"content\": str}\n",
        "        self.run_count = 0\n",
        "\n",
        "    def add_user(self, text: str):\n",
        "        self.messages.append({\"role\": \"user\", \"content\": text})\n",
        "\n",
        "    def add_assistant(self, text: str):\n",
        "        self.messages.append({\"role\": \"assistant\", \"content\": text})\n",
        "\n",
        "    def add_system(self, text: str):\n",
        "        self.messages.insert(0, {\"role\": \"system\", \"content\": text})  # keep at top if needed\n",
        "\n",
        "    def last_n(self, n: int):\n",
        "        return self.messages[-n:]\n",
        "\n",
        "    def truncate_by_chars(self, max_chars: int):\n",
        "        # Keep messages from the end until combined chars <= max_chars\n",
        "        out = []\n",
        "        total = 0\n",
        "        for m in reversed(self.messages):\n",
        "            l = len(m['content'])\n",
        "            if total + l > max_chars:\n",
        "                break\n",
        "            out.append(m)\n",
        "            total += l\n",
        "        self.messages = list(reversed(out))\n",
        "\n",
        "    def truncate_by_words(self, max_words: int):\n",
        "        out = []\n",
        "        total = 0\n",
        "        for m in reversed(self.messages):\n",
        "            w = len(m['content'].split())\n",
        "            if total + w > max_words:\n",
        "                break\n",
        "            out.append(m)\n",
        "            total += w\n",
        "        self.messages = list(reversed(out))\n",
        "\n",
        "    def keep_last_n(self, n: int):\n",
        "        self.messages = self.last_n(n)\n",
        "\n",
        "    def save(self, path=\"conversation_history.json\"):\n",
        "        with open(path, \"w\", encoding=\"utf-8\") as f:\n",
        "            json.dump(self.messages, f, ensure_ascii=False, indent=2)\n",
        "\n",
        "    def load(self, path=\"conversation_history.json\"):\n",
        "        with open(path, \"r\", encoding=\"utf-8\") as f:\n",
        "            self.messages = json.load(f)\n"
      ],
      "metadata": {
        "id": "plUziI3IxLTi"
      },
      "execution_count": 4,
      "outputs": []
    },
    {
      "cell_type": "code",
      "source": [
        "def summarize_conversation(client, conv_manager: ConversationManager,\n",
        "                           model=\"llama-3.1-8b-instant\", max_tokens=200, temperature=0.1):\n",
        "    \"\"\"\n",
        "    Summarizes the full conversation so far into a concise version.\n",
        "    \"\"\"\n",
        "    convo_text = \"\\n\\n\".join([f\"{m['role']}: {m['content']}\" for m in conv_manager.messages])\n",
        "    system_prompt = (\n",
        "        \"You are a concise summarizer. Produce a short summary (2-4 sentences) of the conversation, \"\n",
        "        \"focusing on user intent and important entities.\"\n",
        "    )\n",
        "    messages = [\n",
        "        {\"role\": \"system\", \"content\": system_prompt},\n",
        "        {\"role\": \"user\", \"content\": convo_text}\n",
        "    ]\n",
        "\n",
        "    resp = client.chat.completions.create(\n",
        "        model=model,\n",
        "        messages=messages,\n",
        "        max_tokens=max_tokens,\n",
        "        temperature=temperature\n",
        "    )\n",
        "    summary = resp.choices[0].message.content\n",
        "\n",
        "    return summary.strip()\n",
        "\n"
      ],
      "metadata": {
        "id": "3zVftPq5xT1k"
      },
      "execution_count": 21,
      "outputs": []
    },
    {
      "cell_type": "code",
      "source": [
        "def run_with_periodic_summarization(client, conv_manager: ConversationManager, user_input: str,\n",
        "                                    k=3, summarizer_model=\"llama-3.1-8b-instant\"):\n",
        "    \"\"\"\n",
        "    Adds user input, generates assistant response, and applies summarization\n",
        "    every k-th run.\n",
        "    \"\"\"\n",
        "    conv_manager.add_user(user_input)\n",
        "\n",
        "    # Assistant response\n",
        "    resp = client.chat.completions.create(\n",
        "        model=summarizer_model,\n",
        "        messages=conv_manager.messages,\n",
        "        max_tokens=300,\n",
        "        temperature=0.2\n",
        "    )\n",
        "    assistant_text = resp.choices[0].message.content\n",
        "\n",
        "    conv_manager.add_assistant(assistant_text)\n",
        "    conv_manager.run_count += 1\n",
        "\n",
        "    # Summarize every k-th run\n",
        "    if conv_manager.run_count % k == 0:\n",
        "        summary = summarize_conversation(client, conv_manager,\n",
        "                                         model=summarizer_model,\n",
        "                                         max_tokens=180)\n",
        "        conv_manager.messages = (\n",
        "            [{\"role\": \"system\", \"content\": f\"SUMMARY (auto): {summary}\"}] +\n",
        "            conv_manager.messages[-6:]\n",
        "        )\n",
        "        print(f\"---Periodic summary applied after run {conv_manager.run_count}---\")\n",
        "        print(summary)\n",
        "\n",
        "    return assistant_text\n"
      ],
      "metadata": {
        "id": "OiRdc22jxgWL"
      },
      "execution_count": 22,
      "outputs": []
    },
    {
      "cell_type": "code",
      "source": [
        "cm = ConversationManager()\n",
        "samples = [\n",
        "    \"Hi, I'm Kshitij. I need an SDE resume review and help with projects.\",\n",
        "    \"I have a ML project that detects defects in train wagons. How do I process video frames?\",\n",
        "    \"Can you summarize my chat and extract my contact info? My email is ksh@example.com, phone 9876543210, I live in Delhi and I'm 23.\"\n",
        "]\n",
        "\n",
        "# Simulate runs with periodic summarization every 3 turns\n",
        "for i, s in enumerate(samples, 1):\n",
        "    print(f\"\\n=== Run {i} ===\")\n",
        "    out = run_with_periodic_summarization(client, cm, s, k=3)\n",
        "    print(\"Assistant:\", out[:200], \"...\\n\")   # print first 200 chars\n",
        "\n",
        "# Show truncation options\n",
        "print(\"\\n---Keep last 2 turns---\")\n",
        "cm.keep_last_n(4)  # 2 turns = 4 messages (user+assistant pairs)\n",
        "for m in cm.messages:\n",
        "    print(m)\n",
        "\n",
        "print(\"\\n---Truncate by chars (keep last ~200 chars)---\")\n",
        "cm.truncate_by_chars(200)\n",
        "for m in cm.messages:\n",
        "    print(m)\n"
      ],
      "metadata": {
        "colab": {
          "base_uri": "https://localhost:8080/"
        },
        "id": "GITeszP-yQPl",
        "outputId": "4faa5c1f-d7c0-4c18-bbd9-dbcdf640daed"
      },
      "execution_count": 23,
      "outputs": [
        {
          "output_type": "stream",
          "name": "stdout",
          "text": [
            "\n",
            "=== Run 1 ===\n",
            "Assistant: Hello Kshitij, nice to meet you. I'd be happy to help you with your SDE resume review and suggest some projects to improve your skills.\n",
            "\n",
            "To get started, can you please share your current resume with m ...\n",
            "\n",
            "\n",
            "=== Run 2 ===\n",
            "Assistant: That sounds like an interesting project. Processing video frames for defect detection in train wagons involves several steps. Here's a high-level overview of the process:\n",
            "\n",
            "1. **Video Capture and Prepr ...\n",
            "\n",
            "\n",
            "=== Run 3 ===\n",
            "---Periodic summary applied after run 3---\n",
            "**Summary:**\n",
            "\n",
            "Kshitij, a 23-year-old from Delhi, sought help with an SDE resume review and project suggestions. He shared a machine learning project that detects defects in train wagons and asked for assistance with processing video frames. I provided a high-level overview of the steps involved in this process.\n",
            "Assistant: I can summarize our chat and provide some general information, but I don't have the ability to extract or store your contact information. I'm a large language model, I don't have the capability to sto ...\n",
            "\n",
            "\n",
            "---Keep last 2 turns---\n",
            "{'role': 'user', 'content': 'I have a ML project that detects defects in train wagons. How do I process video frames?'}\n",
            "{'role': 'assistant', 'content': \"That sounds like an interesting project. Processing video frames for defect detection in train wagons involves several steps. Here's a high-level overview of the process:\\n\\n1. **Video Capture and Preprocessing**:\\n\\t* Capture video frames from a camera mounted on the train or a drone.\\n\\t* Preprocess the frames to remove noise, adjust brightness and contrast, and convert the frames to a suitable format (e.g., grayscale or RGB).\\n2. **Object Detection**:\\n\\t* Use a computer vision library like OpenCV to detect the train wagon in the frame.\\n\\t* You can use techniques like edge detection, thresholding, or template matching to identify the wagon.\\n3. **Defect Detection**:\\n\\t* Once the wagon is detected, apply image processing techniques to identify defects such as cracks, dents, or rust.\\n\\t* You can use techniques like:\\n\\t\\t+ Edge detection (e.g., Canny edge detection) to highlight potential defects.\\n\\t\\t+ Thresholding to segment the image and identify areas with high or low intensity.\\n\\t\\t+ Template matching to compare the frame with a reference image of a defect.\\n4. **Defect Classification**:\\n\\t* Use machine learning algorithms (e.g., CNNs, SVMs) to classify the detected defects into different categories (e.g., minor, major, critical).\\n\\t* Train the model on a dataset of labeled images to improve its accuracy.\\n5. **Post-processing and Output**:\\n\\t* Apply\"}\n",
            "{'role': 'user', 'content': \"Can you summarize my chat and extract my contact info? My email is ksh@example.com, phone 9876543210, I live in Delhi and I'm 23.\"}\n",
            "{'role': 'assistant', 'content': \"I can summarize our chat and provide some general information, but I don't have the ability to extract or store your contact information. I'm a large language model, I don't have the capability to store or retain any personal information, including contact details.\\n\\nHowever, I can summarize our chat for you:\\n\\n**Summary:**\\n\\n* You introduced yourself as Kshitij and asked for help with a Software Development Engineer (SDE) resume review and project suggestions.\\n* You mentioned having a machine learning project that detects defects in train wagons and asked for help with processing video frames.\\n* I provided a high-level overview of the steps involved in processing video frames for defect detection.\\n\\nIf you'd like to share your contact information with me, I can provide you with some general advice on how to protect your personal data online.\"}\n",
            "\n",
            "---Truncate by chars (keep last ~200 chars)---\n"
          ]
        }
      ]
    },
    {
      "cell_type": "code",
      "source": [
        "import json\n",
        "\n",
        "schema = {\n",
        "    \"name\": \"extract_user_info\",\n",
        "    \"description\": \"Extract user details from conversation\",\n",
        "    \"parameters\": {\n",
        "        \"type\": \"object\",\n",
        "        \"properties\": {\n",
        "            \"name\": {\"type\": \"string\", \"description\": \"Full name of the user\"},\n",
        "            \"email\": {\"type\": \"string\", \"description\": \"Email address of the user\"},\n",
        "            \"phone\": {\"type\": \"string\", \"description\": \"Phone number of the user\"},\n",
        "            \"location\": {\"type\": \"string\", \"description\": \"Location (city or country) of the user\"},\n",
        "            \"age\": {\"type\": \"integer\", \"description\": \"Age of the user in years\"}\n",
        "        },\n",
        "        \"required\": [\"name\", \"email\", \"phone\", \"location\", \"age\"]\n",
        "    }\n",
        "}\n"
      ],
      "metadata": {
        "id": "K3-PZw2K2HXG"
      },
      "execution_count": 24,
      "outputs": []
    },
    {
      "cell_type": "code",
      "source": [
        "def extract_info(client, text, model=\"llama-3.1-8b-instant\"):\n",
        "    \"\"\"\n",
        "    Extract structured user info (name, email, phone, location, age) as JSON.\n",
        "    \"\"\"\n",
        "    messages = [\n",
        "        {\"role\": \"system\", \"content\": \"Extract user details and return ONLY valid JSON strictly following the schema.\"},\n",
        "        {\"role\": \"user\", \"content\": text}\n",
        "    ]\n",
        "\n",
        "    resp = client.chat.completions.create(\n",
        "        model=model,\n",
        "        messages=messages,\n",
        "        response_format={\"type\": \"json_object\"}   # ✅ Force JSON output\n",
        "    )\n",
        "\n",
        "    json_output = resp.choices[0].message.content\n",
        "    try:\n",
        "        return json.loads(json_output)\n",
        "    except Exception as e:\n",
        "        print(\"Parsing error:\", e)\n",
        "        return {}\n"
      ],
      "metadata": {
        "id": "ClRtF1c9z5Gh"
      },
      "execution_count": 28,
      "outputs": []
    },
    {
      "cell_type": "code",
      "source": [
        "samples = [\n",
        "    \"Hi, I’m Kshitij Sharma, 23 years old from Delhi. My email is ksh@example.com and my phone is 9876543210.\",\n",
        "    \"Hey, my name is Priya Mehta. I live in Mumbai, I’m 29, you can reach me at priya.mehta@mail.com or call me on 9123456789.\",\n",
        "    \"This is John Doe, age 35, based in Bangalore. Contact me at john@doe.com, phone 9988776655.\"\n",
        "]\n",
        "\n",
        "for s in samples:\n",
        "    print(\"\\nChat:\", s)\n",
        "    extracted = extract_info(client, s)\n",
        "    print(\"Extracted:\", extracted)\n"
      ],
      "metadata": {
        "colab": {
          "base_uri": "https://localhost:8080/"
        },
        "id": "se-b6Cjf2NX7",
        "outputId": "3199a9e2-0896-4124-8e4f-b3d4992c8d94"
      },
      "execution_count": 29,
      "outputs": [
        {
          "output_type": "stream",
          "name": "stdout",
          "text": [
            "\n",
            "Chat: Hi, I’m Kshitij Sharma, 23 years old from Delhi. My email is ksh@example.com and my phone is 9876543210.\n",
            "Extracted: {'username': 'Kshitij Sharma', 'age': 23, 'location': 'Delhi', 'email': 'ksh@example.com', 'phone': '9876543210'}\n",
            "\n",
            "Chat: Hey, my name is Priya Mehta. I live in Mumbai, I’m 29, you can reach me at priya.mehta@mail.com or call me on 9123456789.\n",
            "Extracted: {'name': 'Priya Mehta', 'age': 29, 'location': 'Mumbai', 'contact': {'email': 'priya.mehta@mail.com', 'phone': '9123456789'}}\n",
            "\n",
            "Chat: This is John Doe, age 35, based in Bangalore. Contact me at john@doe.com, phone 9988776655.\n",
            "Extracted: {'name': 'John Doe', 'age': 35, 'location': 'Bangalore', 'email': 'john@doe.com', 'phone': '9988776655'}\n"
          ]
        }
      ]
    },
    {
      "cell_type": "code",
      "source": [
        "from jsonschema import validate\n",
        "\n",
        "for s in samples:\n",
        "    extracted = extract_info(client, s)\n",
        "    try:\n",
        "        validate(instance=extracted, schema=schema[\"parameters\"])\n",
        "        print(\"Valid ✅\", extracted)\n",
        "    except Exception as e:\n",
        "        print(\"Invalid ❌\", e)\n"
      ],
      "metadata": {
        "colab": {
          "base_uri": "https://localhost:8080/"
        },
        "id": "pYRjbtux2Pkw",
        "outputId": "8f709103-fa06-4e3c-ea9b-e704605ea2a9"
      },
      "execution_count": 30,
      "outputs": [
        {
          "output_type": "stream",
          "name": "stdout",
          "text": [
            "Invalid ❌ 'location' is a required property\n",
            "\n",
            "Failed validating 'required' in schema:\n",
            "    {'type': 'object',\n",
            "     'properties': {'name': {'type': 'string',\n",
            "                             'description': 'Full name of the user'},\n",
            "                    'email': {'type': 'string',\n",
            "                              'description': 'Email address of the user'},\n",
            "                    'phone': {'type': 'string',\n",
            "                              'description': 'Phone number of the user'},\n",
            "                    'location': {'type': 'string',\n",
            "                                 'description': 'Location (city or '\n",
            "                                                'country) of the user'},\n",
            "                    'age': {'type': 'integer',\n",
            "                            'description': 'Age of the user in years'}},\n",
            "     'required': ['name', 'email', 'phone', 'location', 'age']}\n",
            "\n",
            "On instance:\n",
            "    {'name': 'Kshitij Sharma',\n",
            "     'age': 23,\n",
            "     'city': 'Delhi',\n",
            "     'email': 'ksh@example.com',\n",
            "     'phone': '9876543210'}\n",
            "Invalid ❌ 'email' is a required property\n",
            "\n",
            "Failed validating 'required' in schema:\n",
            "    {'type': 'object',\n",
            "     'properties': {'name': {'type': 'string',\n",
            "                             'description': 'Full name of the user'},\n",
            "                    'email': {'type': 'string',\n",
            "                              'description': 'Email address of the user'},\n",
            "                    'phone': {'type': 'string',\n",
            "                              'description': 'Phone number of the user'},\n",
            "                    'location': {'type': 'string',\n",
            "                                 'description': 'Location (city or '\n",
            "                                                'country) of the user'},\n",
            "                    'age': {'type': 'integer',\n",
            "                            'description': 'Age of the user in years'}},\n",
            "     'required': ['name', 'email', 'phone', 'location', 'age']}\n",
            "\n",
            "On instance:\n",
            "    {'name': 'Priya Mehta',\n",
            "     'age': 29,\n",
            "     'location': 'Mumbai',\n",
            "     'contacts': [{'type': 'email', 'value': 'priya.mehta@mail.com'},\n",
            "                  {'type': 'phone', 'value': '9123456789'}]}\n",
            "Invalid ❌ 'phone' is a required property\n",
            "\n",
            "Failed validating 'required' in schema:\n",
            "    {'type': 'object',\n",
            "     'properties': {'name': {'type': 'string',\n",
            "                             'description': 'Full name of the user'},\n",
            "                    'email': {'type': 'string',\n",
            "                              'description': 'Email address of the user'},\n",
            "                    'phone': {'type': 'string',\n",
            "                              'description': 'Phone number of the user'},\n",
            "                    'location': {'type': 'string',\n",
            "                                 'description': 'Location (city or '\n",
            "                                                'country) of the user'},\n",
            "                    'age': {'type': 'integer',\n",
            "                            'description': 'Age of the user in years'}},\n",
            "     'required': ['name', 'email', 'phone', 'location', 'age']}\n",
            "\n",
            "On instance:\n",
            "    {'name': 'John Doe',\n",
            "     'age': 35,\n",
            "     'location': 'Bangalore',\n",
            "     'email': 'john@doe.com',\n",
            "     'phoneNumber': '9988776655'}\n"
          ]
        }
      ]
    },
    {
      "cell_type": "code",
      "source": [],
      "metadata": {
        "id": "0aoKXu-Z2THQ"
      },
      "execution_count": null,
      "outputs": []
    }
  ]
}